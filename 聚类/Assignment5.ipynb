{
 "cells": [
  {
   "cell_type": "markdown",
   "metadata": {},
   "source": [
    "# 第五题：实现层次聚类，并与其他聚类算法进行对比（选做）\n",
    "\n",
    "实验内容：\n",
    "1. 实现三种形式的层次聚类（最小距离、最大距离、平均距离）\n",
    "2. 至少选择两个数据集\n",
    "3. 在这两个数据集上运行自己实现的层次聚类算法和sklearn的KMeans，GMM，DBSCAN，共4个聚类算法\n",
    "4. 计算外部指标FMI和NMI\n",
    "5. 绘制4种聚类的聚类效果"
   ]
  },
  {
   "cell_type": "code",
   "execution_count": 19,
   "metadata": {},
   "outputs": [],
   "source": [
    "# YOUR CODE HERE\n",
    "import numpy as np\n",
    "import matplotlib.pyplot as plt\n",
    "import sys\n",
    "%matplotlib inline\n",
    "\n",
    "import warnings\n",
    "warnings.filterwarnings('ignore')"
   ]
  },
  {
   "cell_type": "markdown",
   "metadata": {},
   "source": [
    "# 生成数据集"
   ]
  },
  {
   "cell_type": "code",
   "execution_count": 20,
   "metadata": {},
   "outputs": [],
   "source": [
    "from sklearn.datasets import make_blobs\n",
    "X, y = make_blobs(n_samples = 1500, random_state = 170)"
   ]
  },
  {
   "cell_type": "code",
   "execution_count": 21,
   "metadata": {},
   "outputs": [
    {
     "data": {
      "text/plain": [
       "<matplotlib.collections.PathCollection at 0x7f0ac8fb8c50>"
      ]
     },
     "execution_count": 21,
     "metadata": {},
     "output_type": "execute_result"
    },
    {
     "data": {
      "image/png": "[encoded data removed]",
      "text/plain": [
       "<Figure size 432x288 with 1 Axes>"
      ]
     },
     "metadata": {
      "needs_background": "light"
     },
     "output_type": "display_data"
    }
   ],
   "source": [
    "plt.scatter(X[:, 0], X[:, 1], c = y)"
   ]
  },
  {
   "cell_type": "code",
   "execution_count": 22,
   "metadata": {},
   "outputs": [],
   "source": [
    "def compute_distance(X, y):\n",
    "    distance = np.sqrt(np.sum((X-y)**2,axis=1))\n",
    "    return distance"
   ]
  },
  {
   "cell_type": "code",
   "execution_count": 23,
   "metadata": {},
   "outputs": [],
   "source": [
    "class myAggregativeClustering:\n",
    "    \n",
    "    def __init__(self,n_clusters,linkage):\n",
    "        self.n_clusters = n_clusters\n",
    "        self.linkage = linkage\n",
    "        self.X = None\n",
    "    \n",
    "    def fit(self,X):\n",
    "        \n",
    "        # 一开始把每一个点看作一个类\n",
    "        self.X = X.copy()\n",
    "        self.X = np.concatenate((np.array([[x for x in range(len(X))]]).T,self.X),axis=1)\n",
    "        \n",
    "        # 直到到达指定的类簇数为止\n",
    "        labels = self.X[:,0]\n",
    "        print(len(labels))\n",
    "        while(len(set(labels.tolist())) != self.n_clusters):\n",
    "            \n",
    "            # set.size don't change\n",
    "            print(len(set(labels.tolist())))\n",
    "            \n",
    "            min_tag = 0\n",
    "            distance_list = []\n",
    "            \n",
    "            # 求每一个类到其他类的距离\n",
    "            for label in labels:\n",
    "                A = self.X[self.X[:,0] == label,:]\n",
    "                A = A[:,1:]\n",
    "                list_distance = []\n",
    "                \n",
    "                for i in range(0,len(A)):\n",
    "                    distances = compute_distance(self.X[:,1:],A[i,:])\n",
    "                    # 为了避免之后取ｍｉｎ出错让相同行的值取maxsize\n",
    "                    distances[np.where(distances == 0)] = sys.maxsize\n",
    "                    list_distance.append(distances)\n",
    "                \n",
    "                #　Ａ类中点到Ｂ类中距离的最小值\n",
    "                if(self.linkage == 'min'):\n",
    "                    min_distance = list_distance[0]\n",
    "                    for i in range(1,len(list_distance)):\n",
    "                        min_distance = get_min(min_distance,list_distance[i])\n",
    "                    distance_list.append(min_distance)\n",
    "                    \n",
    "                #　Ａ类中点到Ｂ类中距离的最大值\n",
    "                elif(self.linkage == 'max'):\n",
    "                    max_distance = list_distance[0]\n",
    "                    for i in range(1,len(list_distance)):\n",
    "                        max_distance = get_max(max_distance,list_distance[i])\n",
    "                    distance_list.append(max_distance)\n",
    "                        \n",
    "                #　Ａ类中点到Ｂ类中距离的平均值\n",
    "                elif(self.linkage == 'avg'):\n",
    "                    distance_sum = list_distance[0]\n",
    "                    for i in range(1,len(list_distance)):\n",
    "                        distance_sum += list_distance[i] \n",
    "                    distance_list.append(np.mean(distance_sum))\n",
    "                    \n",
    "            # 选取距离最小的类\n",
    "            min_distance = sys.maxsize\n",
    "            min_arg = 0\n",
    "            min_pointer = 0\n",
    "            for i in range(0,len(distance_list)):\n",
    "                if np.min(distance_list[i]) < min_distance:\n",
    "                    min_arg = np.where(distance_list == np.min(distance_list[i]))[0][0]\n",
    "                    min_pointer = i\n",
    "                    \n",
    "            label_min = self.X[min_arg,0]\n",
    "            \n",
    "            # 将对应类别更改\n",
    "            for i in range(0,len(self.X)):\n",
    "                if self.X[i,0] == label_min:\n",
    "                    self.X[i,0] = labels[i]\n",
    "            \n",
    "            # 更新ｌａｂｅｌｓ\n",
    "            labels = self.X[:,0]                    \n",
    "            \n",
    "    def get_pridict():\n",
    "        return self.X[:0].T\n",
    "    \n",
    "    # 将两个矩阵中最小的部分进行合并\n",
    "    def get_min(A_in,B_in):\n",
    "        \n",
    "        A = A_in.copy()\n",
    "        B = B_in.copy()\n",
    "        \n",
    "        temp1 = A>B\n",
    "        A[temp1] = 0\n",
    "        temp2 = A<B\n",
    "        B[temp2] = 0\n",
    "        \n",
    "        return A+B\n",
    "    \n",
    "    # 将两个矩阵中最大的地方进行合并\n",
    "    def get_max(A,B):\n",
    "        \n",
    "        A = A_in.copy()\n",
    "        B = B_in.copy()\n",
    "        \n",
    "        temp1 = A<B\n",
    "        A[temp1] = 0\n",
    "        temp2 = A>B\n",
    "        B[temp2] = 0\n",
    "        \n",
    "        return A+B        "
   ]
  },
  {
   "cell_type": "code",
   "execution_count": 24,
   "metadata": {},
   "outputs": [],
   "source": [
    "model = myAggregativeClustering(2,\"min\")"
   ]
  },
  {
   "cell_type": "code",
   "execution_count": 25,
   "metadata": {},
   "outputs": [
    {
     "name": "stdout",
     "output_type": "stream",
     "text": [
      "1500\n",
      "1500\n",
      "1500\n",
      "1500\n"
     ]
    },
    {
     "ename": "KeyboardInterrupt",
     "evalue": "",
     "output_type": "error",
     "traceback": [
      "\u001b[0;31m---------------------------------------------------------------------------\u001b[0m",
      "\u001b[0;31mKeyboardInterrupt\u001b[0m                         Traceback (most recent call last)",
      "\u001b[0;32m<ipython-input-25-0c199aedc904>\u001b[0m in \u001b[0;36m<module>\u001b[0;34m\u001b[0m\n\u001b[0;32m----> 1\u001b[0;31m \u001b[0mmodel\u001b[0m\u001b[0;34m.\u001b[0m\u001b[0mfit\u001b[0m\u001b[0;34m(\u001b[0m\u001b[0mX\u001b[0m\u001b[0;34m)\u001b[0m\u001b[0;34m\u001b[0m\u001b[0m\n\u001b[0m",
      "\u001b[0;32m<ipython-input-23-5f609d32397c>\u001b[0m in \u001b[0;36mfit\u001b[0;34m(self, X)\u001b[0m\n\u001b[1;32m     59\u001b[0m             \u001b[0;32mfor\u001b[0m \u001b[0mi\u001b[0m \u001b[0;32min\u001b[0m \u001b[0mrange\u001b[0m\u001b[0;34m(\u001b[0m\u001b[0;36m0\u001b[0m\u001b[0;34m,\u001b[0m\u001b[0mlen\u001b[0m\u001b[0;34m(\u001b[0m\u001b[0mdistance_list\u001b[0m\u001b[0;34m)\u001b[0m\u001b[0;34m)\u001b[0m\u001b[0;34m:\u001b[0m\u001b[0;34m\u001b[0m\u001b[0m\n\u001b[1;32m     60\u001b[0m                 \u001b[0;32mif\u001b[0m \u001b[0mnp\u001b[0m\u001b[0;34m.\u001b[0m\u001b[0mmin\u001b[0m\u001b[0;34m(\u001b[0m\u001b[0mdistance_list\u001b[0m\u001b[0;34m[\u001b[0m\u001b[0mi\u001b[0m\u001b[0;34m]\u001b[0m\u001b[0;34m)\u001b[0m \u001b[0;34m<\u001b[0m \u001b[0mmin_distance\u001b[0m\u001b[0;34m:\u001b[0m\u001b[0;34m\u001b[0m\u001b[0m\n\u001b[0;32m---> 61\u001b[0;31m                     \u001b[0mmin_arg\u001b[0m \u001b[0;34m=\u001b[0m \u001b[0mnp\u001b[0m\u001b[0;34m.\u001b[0m\u001b[0mwhere\u001b[0m\u001b[0;34m(\u001b[0m\u001b[0mdistance_list\u001b[0m \u001b[0;34m==\u001b[0m \u001b[0mnp\u001b[0m\u001b[0;34m.\u001b[0m\u001b[0mmin\u001b[0m\u001b[0;34m(\u001b[0m\u001b[0mdistance_list\u001b[0m\u001b[0;34m[\u001b[0m\u001b[0mi\u001b[0m\u001b[0;34m]\u001b[0m\u001b[0;34m)\u001b[0m\u001b[0;34m)\u001b[0m\u001b[0;34m[\u001b[0m\u001b[0;36m0\u001b[0m\u001b[0;34m]\u001b[0m\u001b[0;34m[\u001b[0m\u001b[0;36m0\u001b[0m\u001b[0;34m]\u001b[0m\u001b[0;34m\u001b[0m\u001b[0m\n\u001b[0m\u001b[1;32m     62\u001b[0m                     \u001b[0mmin_pointer\u001b[0m \u001b[0;34m=\u001b[0m \u001b[0mi\u001b[0m\u001b[0;34m\u001b[0m\u001b[0m\n\u001b[1;32m     63\u001b[0m \u001b[0;34m\u001b[0m\u001b[0m\n",
      "\u001b[0;31mKeyboardInterrupt\u001b[0m: "
     ]
    }
   ],
   "source": [
    "model.fit(X)"
   ]
  },
  {
   "cell_type": "code",
   "execution_count": null,
   "metadata": {},
   "outputs": [],
   "source": [
    "from sklearn.metrics import normalized_mutual_info_score\n",
    "from sklearn.metrics import fowlkes_mallows_score"
   ]
  },
  {
   "cell_type": "code",
   "execution_count": null,
   "metadata": {},
   "outputs": [],
   "source": [
    "print(normalized_mutual_info_score(y, model.get_pridict))\n",
    "print(fowlkes_mallows_score(y, model.get_pridict))"
   ]
  },
  {
   "cell_type": "code",
   "execution_count": null,
   "metadata": {},
   "outputs": [],
   "source": []
  }
 ],
 "metadata": {
  "kernelspec": {
   "display_name": "Python 3",
   "language": "python",
   "name": "python3"
  },
  "language_info": {
   "codemirror_mode": {
    "name": "ipython",
    "version": 3
   },
   "file_extension": ".py",
   "mimetype": "text/x-python",
   "name": "python",
   "nbconvert_exporter": "python",
   "pygments_lexer": "ipython3",
   "version": "3.6.6"
  }
 },
 "nbformat": 4,
 "nbformat_minor": 2
}
