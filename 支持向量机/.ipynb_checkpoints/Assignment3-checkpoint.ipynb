{
 "cells": [
  {
   "cell_type": "markdown",
   "metadata": {},
   "source": [
    "# 第三题：支持向量机的分类任务\n",
    "\n",
    "实验内容：\n",
    "1. 使用支持向量机完成spambase垃圾邮件分类任务\n",
    "2. 使用训练集训练模型，计算测试集的精度，查准率，查全率，F1值"
   ]
  },
  {
   "cell_type": "markdown",
   "metadata": {},
   "source": [
    "## 请你使用SVC，完成spambase分类任务\n",
    "\n",
    "要求：使用全部特征，完成以下内容的填写\n",
    "###### 双击此处填写\n",
    "\n",
    "核函数 | C | 精度 | 查准率 | 查全率 | F1\n",
    "- | - | - | - | - | -\n",
    "rbf | 0.1 | 0.7414916727009413 | 0.6429780033840947 | 0.7224334600760456 | 0.6803939122649955\n",
    "rbf | 1 | 0.8298334540188269 | 0.7650273224043715 | 0.7984790874524715 | 0.7813953488372094\n",
    "linear | 0.1 | 0.779145546705286 | 0.9367588932806324 | 0.4505703422053232 | 0.6084724005134788\n",
    "linear | 1 | 0.8095582910934106 | 0.9311475409836065 | 0.5399239543726235 | 0.6835138387484958\n",
    "sigmoid | 0.1 | 0.7414916727009413 | 0.6429780033840947 | 0.7224334600760456 | 0.6803939122649955\n",
    "sigmoid | 1 | 0.37074583635047065 | 0.12958963282937366 | 0.11406844106463879 | 0.12133468149646108"
   ]
  },
  {
   "cell_type": "code",
   "execution_count": 1,
   "metadata": {},
   "outputs": [],
   "source": [
    "# 导入数据\n",
    "import numpy as np\n",
    "data = np.loadtxt('data/spambase/spambase.data', delimiter = \",\")\n",
    "spamx = data[:, :57]\n",
    "spamy = data[:, 57]"
   ]
  },
  {
   "cell_type": "code",
   "execution_count": 2,
   "metadata": {},
   "outputs": [
    {
     "data": {
      "text/plain": [
       "((3220, 57), (3220,), (1381, 57), (1381,))"
      ]
     },
     "execution_count": 2,
     "metadata": {},
     "output_type": "execute_result"
    }
   ],
   "source": [
    "# 数据集分割\n",
    "from sklearn.model_selection import train_test_split\n",
    "trainX, testX, trainY, testY = train_test_split(spamx, spamy, test_size = 0.3, random_state = 32)\n",
    "trainX.shape, trainY.shape, testX.shape, testY.shape"
   ]
  },
  {
   "cell_type": "markdown",
   "metadata": {},
   "source": [
    "**注意：计算线性核的时候，要使用 LinearSVC 这个类，不要使用SVC(kernel = 'linear')。LinearSVC不需要设置kernel参数！**"
   ]
  },
  {
   "cell_type": "code",
   "execution_count": 3,
   "metadata": {},
   "outputs": [],
   "source": [
    "# 引入模型\n",
    "from sklearn.svm import SVC\n",
    "from sklearn.svm import LinearSVC\n",
    "from sklearn.metrics import accuracy_score\n",
    "from sklearn.metrics import precision_score\n",
    "from sklearn.metrics import recall_score\n",
    "from sklearn.metrics import f1_score"
   ]
  },
  {
   "cell_type": "code",
   "execution_count": 4,
   "metadata": {},
   "outputs": [
    {
     "name": "stdout",
     "output_type": "stream",
     "text": [
      "0.8298334540188269\n",
      "0.7650273224043715\n",
      "0.7984790874524715\n",
      "0.7813953488372094\n"
     ]
    }
   ],
   "source": [
    "# YOUR CODE HERE\n",
    "clf = SVC(kernel = 'rbf', C = 1, random_state = 32)\n",
    "\n",
    "clf.fit(trainX,trainY)\n",
    "\n",
    "prediction = clf.predict(testX)\n",
    "\n",
    "print(accuracy_score(testY,prediction))\n",
    "print(precision_score(testY,prediction))\n",
    "print(recall_score(testY,prediction))\n",
    "print(f1_score(testY,prediction))"
   ]
  },
  {
   "cell_type": "code",
   "execution_count": 15,
   "metadata": {},
   "outputs": [
    {
     "name": "stdout",
     "output_type": "stream",
     "text": [
      "0.7414916727009413\n",
      "0.6429780033840947\n",
      "0.7224334600760456\n",
      "0.6803939122649955\n"
     ]
    }
   ],
   "source": [
    "# YOUR CODE HERE\n",
    "clf = SVC(kernel = 'rbf', C = 0.1, random_state = 32)\n",
    "\n",
    "clf.fit(trainX,trainY)\n",
    "\n",
    "prediction = clf.predict(testX)\n",
    "\n",
    "print(accuracy_score(testY,prediction))\n",
    "print(precision_score(testY,prediction))\n",
    "print(recall_score(testY,prediction))\n",
    "print(f1_score(testY,prediction))"
   ]
  },
  {
   "cell_type": "code",
   "execution_count": 5,
   "metadata": {},
   "outputs": [
    {
     "name": "stdout",
     "output_type": "stream",
     "text": [
      "0.8095582910934106\n",
      "0.9311475409836065\n",
      "0.5399239543726235\n",
      "0.6835138387484958\n"
     ]
    }
   ],
   "source": [
    "# YOUR CODE HERE\n",
    "clf = LinearSVC(C = 1, random_state = 32)\n",
    "\n",
    "clf.fit(trainX,trainY)\n",
    "\n",
    "prediction = clf.predict(testX)\n",
    "\n",
    "print(accuracy_score(testY,prediction))\n",
    "print(precision_score(testY,prediction))\n",
    "print(recall_score(testY,prediction))\n",
    "print(f1_score(testY,prediction))"
   ]
  },
  {
   "cell_type": "code",
   "execution_count": 6,
   "metadata": {},
   "outputs": [
    {
     "name": "stdout",
     "output_type": "stream",
     "text": [
      "0.779145546705286\n",
      "0.9367588932806324\n",
      "0.4505703422053232\n",
      "0.6084724005134788\n"
     ]
    }
   ],
   "source": [
    "# YOUR CODE HERE\n",
    "clf = LinearSVC(C = 0.1, random_state = 32)\n",
    "\n",
    "clf.fit(trainX,trainY)\n",
    "\n",
    "prediction = clf.predict(testX)\n",
    "\n",
    "print(accuracy_score(testY,prediction))\n",
    "print(precision_score(testY,prediction))\n",
    "print(recall_score(testY,prediction))\n",
    "print(f1_score(testY,prediction))"
   ]
  },
  {
   "cell_type": "code",
   "execution_count": 7,
   "metadata": {},
   "outputs": [
    {
     "name": "stdout",
     "output_type": "stream",
     "text": [
      "0.7414916727009413\n",
      "0.6429780033840947\n",
      "0.7224334600760456\n",
      "0.6803939122649955\n"
     ]
    }
   ],
   "source": [
    "# YOUR CODE HERE\n",
    "clf = SVC(kernel = 'rbf', C = 0.1, random_state = 32)\n",
    "\n",
    "clf.fit(trainX,trainY)\n",
    "\n",
    "prediction = clf.predict(testX)\n",
    "\n",
    "print(accuracy_score(testY,prediction))\n",
    "print(precision_score(testY,prediction))\n",
    "print(recall_score(testY,prediction))\n",
    "print(f1_score(testY,prediction))"
   ]
  },
  {
   "cell_type": "code",
   "execution_count": 8,
   "metadata": {},
   "outputs": [
    {
     "name": "stdout",
     "output_type": "stream",
     "text": [
      "0.7414916727009413\n",
      "0.6429780033840947\n",
      "0.7224334600760456\n",
      "0.6803939122649955\n"
     ]
    }
   ],
   "source": [
    "# YOUR CODE HERE\n",
    "clf = SVC(kernel = 'rbf', C = 0.1, random_state = 32)\n",
    "\n",
    "clf.fit(trainX,trainY)\n",
    "\n",
    "prediction = clf.predict(testX)\n",
    "\n",
    "print(accuracy_score(testY,prediction))\n",
    "print(precision_score(testY,prediction))\n",
    "print(recall_score(testY,prediction))\n",
    "print(f1_score(testY,prediction))"
   ]
  },
  {
   "cell_type": "code",
   "execution_count": 9,
   "metadata": {},
   "outputs": [
    {
     "name": "stdout",
     "output_type": "stream",
     "text": [
      "0.37074583635047065\n",
      "0.12958963282937366\n",
      "0.11406844106463879\n",
      "0.12133468149646108\n"
     ]
    }
   ],
   "source": [
    "# YOUR CODE HERE\n",
    "clf = SVC(kernel = 'sigmoid', C = 1, random_state = 32)\n",
    "\n",
    "clf.fit(trainX,trainY)\n",
    "\n",
    "prediction = clf.predict(testX)\n",
    "\n",
    "print(accuracy_score(testY,prediction))\n",
    "print(precision_score(testY,prediction))\n",
    "print(recall_score(testY,prediction))\n",
    "print(f1_score(testY,prediction))"
   ]
  },
  {
   "cell_type": "markdown",
   "metadata": {},
   "source": [
    "# 选做：比较LinearSVC和SVR(kernel = 'linear')的运行时间"
   ]
  },
  {
   "cell_type": "code",
   "execution_count": 13,
   "metadata": {},
   "outputs": [
    {
     "name": "stdout",
     "output_type": "stream",
     "text": [
      "LinearSVC training time: 0.24161696434 s\n",
      "0.8095582910934106\n",
      "0.9311475409836065\n",
      "0.5399239543726235\n",
      "0.6835138387484958\n"
     ]
    }
   ],
   "source": [
    "from time import time\n",
    "start_flag = time()\n",
    "\n",
    "clf = LinearSVC(C = 1, random_state = 32)\n",
    "\n",
    "clf.fit(trainX,trainY)\n",
    "\n",
    "prediction = clf.predict(testX)\n",
    "\n",
    "end_flag = time()\n",
    "print('LinearSVC training time: %s s'%(end_flag - start_flag))\n",
    "print(accuracy_score(testY,prediction))\n",
    "print(precision_score(testY,prediction))\n",
    "print(recall_score(testY,prediction))\n",
    "print(f1_score(testY,prediction))"
   ]
  },
  {
   "cell_type": "code",
   "execution_count": 14,
   "metadata": {},
   "outputs": [
    {
     "name": "stdout",
     "output_type": "stream",
     "text": [
      "SVC(kernel = linear) training time: 237.987004995 s\n",
      "0.9283128167994207\n",
      "0.9161793372319688\n",
      "0.8935361216730038\n",
      "0.904716073147257\n"
     ]
    }
   ],
   "source": [
    "start_flag = time()\n",
    "clf = SVC(kernel = 'linear', C = 1, random_state = 32)\n",
    "clf.fit(trainX,trainY)\n",
    "prediction = clf.predict(testX)\n",
    "\n",
    "end_flag = time()\n",
    "print('SVC(kernel = linear) training time: %s s'%(end_flag - start_flag))\n",
    "print(accuracy_score(testY,prediction))\n",
    "print(precision_score(testY,prediction))\n",
    "print(recall_score(testY,prediction))\n",
    "print(f1_score(testY,prediction))"
   ]
  }
 ],
 "metadata": {
  "kernelspec": {
   "display_name": "Python 2",
   "language": "python",
   "name": "python2"
  },
  "language_info": {
   "codemirror_mode": {
    "name": "ipython",
    "version": 2
   },
   "file_extension": ".py",
   "mimetype": "text/x-python",
   "name": "python",
   "nbconvert_exporter": "python",
   "pygments_lexer": "ipython2",
   "version": "2.7.15rc1"
  }
 },
 "nbformat": 4,
 "nbformat_minor": 2
}
