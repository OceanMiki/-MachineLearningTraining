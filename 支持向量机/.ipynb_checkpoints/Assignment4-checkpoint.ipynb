{
 "cells": [
  {
   "cell_type": "markdown",
   "metadata": {},
   "source": [
    "# 第四题：支持向量机的回归任务\n",
    "\n",
    "实验内容：\n",
    "1. 使用支持向量机完成kaggle房价预测问题\n",
    "2. 使用训练集训练模型，计算测试集的MAE和RMSE"
   ]
  },
  {
   "cell_type": "markdown",
   "metadata": {},
   "source": [
    "## 请你使用SVR，完成kaggle房价预测问题\n",
    "\n",
    "要求：使用'LotArea', 'BsmtUnfSF', 'GarageArea'作为特征，完成以下内容的填写\n",
    "\n",
    "###### 双击此处填写\n",
    "\n",
    "核函数 | C | MAE | RMSE\n",
    "- | - | - | - \n",
    "rbf | 0.1 | 56514.17156396131 | 79838.90862178346\n",
    "rbf | 1 | 44839.58498987698 | 87637.87178461446\n",
    "linear | 0.1 | 47271.96021324381 | 87637.87178461446\n",
    "linear | 1 | 47271.96021324381 | 87637.87178461446\n",
    "sigmoid | 0.1 | 56514.17784132763 | 79839.01037512351\n",
    "sigmoid | 1 | 56514.17156396131 | 79838.90862178346"
   ]
  },
  {
   "cell_type": "code",
   "execution_count": 1,
   "metadata": {},
   "outputs": [],
   "source": [
    "import numpy as np\n",
    "import pandas as pd\n",
    "\n",
    "# 读取数据\n",
    "data = pd.read_csv('data/kaggle_house_price_prediction/kaggle_hourse_price_train.csv')\n",
    "\n",
    "# 使用这3列作为特征\n",
    "features = ['LotArea', 'BsmtUnfSF', 'GarageArea']\n",
    "target = 'SalePrice'\n",
    "data = data[features + [target]]"
   ]
  },
  {
   "cell_type": "code",
   "execution_count": 2,
   "metadata": {},
   "outputs": [
    {
     "data": {
      "text/plain": [
       "((1022, 3), (1022,), (438, 3), (438,))"
      ]
     },
     "execution_count": 2,
     "metadata": {},
     "output_type": "execute_result"
    }
   ],
   "source": [
    "# 数据集分割\n",
    "from sklearn.model_selection import train_test_split\n",
    "trainX, testX, trainY, testY = train_test_split(data[features], data[target], test_size = 0.3, random_state = 32)\n",
    "trainX.shape, trainY.shape, testX.shape, testY.shape"
   ]
  },
  {
   "cell_type": "markdown",
   "metadata": {},
   "source": [
    "**注意：计算线性核的时候，要使用 LinearSVR 这个类，不要使用SVR(kernel = 'linear')。LinearSVR不需要设置kernel参数！**"
   ]
  },
  {
   "cell_type": "code",
   "execution_count": 3,
   "metadata": {},
   "outputs": [],
   "source": [
    "# 引入模型\n",
    "from sklearn.svm import SVR\n",
    "from sklearn.svm import LinearSVR\n",
    "from sklearn.metrics import mean_absolute_error\n",
    "from sklearn.metrics import mean_squared_error"
   ]
  },
  {
   "cell_type": "code",
   "execution_count": 4,
   "metadata": {},
   "outputs": [],
   "source": [
    "# YOUR CODE HERE\n",
    "clf = SVR(kernel = 'rbf', C = 0.1)\n",
    "\n",
    "clf.fit(trainX,trainY)\n",
    "\n",
    "prediction = clf.predict(testX)"
   ]
  },
  {
   "cell_type": "code",
   "execution_count": 5,
   "metadata": {},
   "outputs": [
    {
     "name": "stdout",
     "output_type": "stream",
     "text": [
      "56514.17156396131\n",
      "79838.90862178346\n"
     ]
    }
   ],
   "source": [
    "clf = SVR(kernel = 'rbf', C = 1)\n",
    "\n",
    "clf.fit(trainX,trainY)\n",
    "\n",
    "prediction = clf.predict(testX)\n",
    "print(mean_absolute_error(testY, prediction))\n",
    "print(mean_squared_error(testY, prediction) ** 0.5)"
   ]
  },
  {
   "cell_type": "code",
   "execution_count": 6,
   "metadata": {},
   "outputs": [
    {
     "name": "stdout",
     "output_type": "stream",
     "text": [
      "44839.58498987698\n",
      "67582.91332232844\n"
     ]
    }
   ],
   "source": [
    "clf = LinearSVR(C = 0.1)\n",
    "\n",
    "clf.fit(trainX,trainY)\n",
    "\n",
    "prediction = clf.predict(testX)\n",
    "print(mean_absolute_error(testY, prediction))\n",
    "print(mean_squared_error(testY, prediction) ** 0.5)"
   ]
  },
  {
   "cell_type": "code",
   "execution_count": 7,
   "metadata": {},
   "outputs": [
    {
     "name": "stdout",
     "output_type": "stream",
     "text": [
      "47271.96021324381\n",
      "87637.87178461446\n"
     ]
    }
   ],
   "source": [
    "clf = LinearSVR(C = 1)\n",
    "\n",
    "clf.fit(trainX,trainY)\n",
    "\n",
    "prediction = clf.predict(testX)\n",
    "print(mean_absolute_error(testY, prediction))\n",
    "print(mean_squared_error(testY, prediction) ** 0.5)"
   ]
  },
  {
   "cell_type": "code",
   "execution_count": 8,
   "metadata": {},
   "outputs": [
    {
     "name": "stdout",
     "output_type": "stream",
     "text": [
      "56514.17784132763\n",
      "79839.01037512351\n"
     ]
    }
   ],
   "source": [
    "clf = SVR(kernel = 'rbf', C = 0.1)\n",
    "\n",
    "clf.fit(trainX,trainY)\n",
    "\n",
    "prediction = clf.predict(testX)\n",
    "print(mean_absolute_error(testY, prediction))\n",
    "print(mean_squared_error(testY, prediction) ** 0.5)"
   ]
  },
  {
   "cell_type": "code",
   "execution_count": 9,
   "metadata": {},
   "outputs": [
    {
     "name": "stdout",
     "output_type": "stream",
     "text": [
      "56514.17156396131\n",
      "79838.90862178346\n"
     ]
    }
   ],
   "source": [
    "clf = SVR(kernel = 'rbf', C = 1)\n",
    "\n",
    "clf.fit(trainX,trainY)\n",
    "\n",
    "prediction = clf.predict(testX)\n",
    "print(mean_absolute_error(testY, prediction))\n",
    "print(mean_squared_error(testY, prediction) ** 0.5)"
   ]
  }
 ],
 "metadata": {
  "kernelspec": {
   "display_name": "Python 2",
   "language": "python",
   "name": "python2"
  },
  "language_info": {
   "codemirror_mode": {
    "name": "ipython",
    "version": 2
   },
   "file_extension": ".py",
   "mimetype": "text/x-python",
   "name": "python",
   "nbconvert_exporter": "python",
   "pygments_lexer": "ipython2",
   "version": "2.7.15rc1"
  }
 },
 "nbformat": 4,
 "nbformat_minor": 2
}
