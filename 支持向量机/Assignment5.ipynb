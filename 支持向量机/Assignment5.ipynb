{
 "cells": [
  {
   "cell_type": "markdown",
   "metadata": {},
   "source": [
    "# 第五题（选做）：完成dota2比赛结果预测任务\n",
    "\n",
    "实验内容：\n",
    "1. 使用你学过的算法完成dota2比赛结果预测\n",
    "2. 对比它们的精度、查准率、查全率、F1值\n",
    "\n",
    "## 结果写入到markdown的表格中！"
   ]
  },
  {
   "cell_type": "code",
   "execution_count": 1,
   "metadata": {},
   "outputs": [
    {
     "name": "stdout",
     "output_type": "stream",
     "text": [
      "(92650, 117)\n"
     ]
    }
   ],
   "source": [
    "import numpy as np\n",
    "data = np.loadtxt('data/dota2Dataset/dota2Train.csv', delimiter=',')\n",
    "print(data.shape)"
   ]
  },
  {
   "cell_type": "code",
   "execution_count": 2,
   "metadata": {},
   "outputs": [
    {
     "name": "stdout",
     "output_type": "stream",
     "text": [
      "(64854, 116)\n",
      "(64854,)\n",
      "(27796, 116)\n",
      "(27796,)\n"
     ]
    }
   ],
   "source": [
    "# 数据切分\n",
    "# 训练集测试集三七分\n",
    "size = len(data)\n",
    "data_y = data[:,0]\n",
    "data_x = data[:,1:]\n",
    "\n",
    "trainX = data_x[:int(size*0.7),:]\n",
    "trainY = data_y[:int(size*0.7)]\n",
    "\n",
    "testX = data_x[int(size*0.7):,:]\n",
    "testY = data_y[int(size*0.7):]\n",
    "\n",
    "print(trainX.shape)\n",
    "print(trainY.shape)\n",
    "print(testX.shape)\n",
    "print(testY.shape)"
   ]
  },
  {
   "cell_type": "code",
   "execution_count": 3,
   "metadata": {},
   "outputs": [],
   "source": [
    "from sklearn.svm import SVC\n",
    "from sklearn.svm import LinearSVC\n",
    "from sklearn.metrics import accuracy_score\n",
    "from sklearn.metrics import precision_score\n",
    "from sklearn.metrics import recall_score\n",
    "from sklearn.metrics import f1_score"
   ]
  },
  {
   "cell_type": "code",
   "execution_count": 4,
   "metadata": {},
   "outputs": [
    {
     "name": "stdout",
     "output_type": "stream",
     "text": [
      "0.593862426248381\n",
      "0.6019190404797601\n",
      "0.6833469498910676\n",
      "0.6400535663042439\n"
     ]
    }
   ],
   "source": [
    "clf = SVC(kernel = 'rbf', C = 1, random_state = 32);\n",
    "\n",
    "clf.fit(trainX,trainY);\n",
    "\n",
    "prediction = clf.predict(testX);\n",
    "\n",
    "print(accuracy_score(testY,prediction))\n",
    "print(precision_score(testY,prediction))\n",
    "print(recall_score(testY,prediction))\n",
    "print(f1_score(testY,prediction))"
   ]
  },
  {
   "cell_type": "code",
   "execution_count": 5,
   "metadata": {},
   "outputs": [
    {
     "name": "stdout",
     "output_type": "stream",
     "text": [
      "0.5686789466110231\n",
      "0.5576143107202323\n",
      "0.889229302832244\n",
      "0.6854189079268452\n"
     ]
    }
   ],
   "source": [
    "clf = SVC(kernel = 'rbf', C = 0.1, random_state = 32)\n",
    "\n",
    "clf.fit(trainX,trainY)\n",
    "\n",
    "prediction = clf.predict(testX)\n",
    "\n",
    "print(accuracy_score(testY,prediction))\n",
    "print(precision_score(testY,prediction))\n",
    "print(recall_score(testY,prediction))\n",
    "print(f1_score(testY,prediction))"
   ]
  },
  {
   "cell_type": "code",
   "execution_count": 6,
   "metadata": {},
   "outputs": [
    {
     "name": "stdout",
     "output_type": "stream",
     "text": [
      "0.5294646711757087\n",
      "0.5289962155343305\n",
      "0.9992510893246187\n",
      "0.691772912591615\n"
     ]
    }
   ],
   "source": [
    "clf = LinearSVC(C = 1, random_state = 32)\n",
    "\n",
    "clf.fit(trainX,trainY)\n",
    "\n",
    "prediction = clf.predict(testX)\n",
    "\n",
    "print(accuracy_score(testY,prediction))\n",
    "print(precision_score(testY,prediction))\n",
    "print(recall_score(testY,prediction))\n",
    "print(f1_score(testY,prediction))"
   ]
  },
  {
   "cell_type": "code",
   "execution_count": 7,
   "metadata": {},
   "outputs": [
    {
     "name": "stdout",
     "output_type": "stream",
     "text": [
      "0.532306806734782\n",
      "0.5305597798537186\n",
      "0.9976171023965141\n",
      "0.6927149813265259\n"
     ]
    }
   ],
   "source": [
    "clf = LinearSVC(C = 0.1, random_state = 32)\n",
    "\n",
    "clf.fit(trainX,trainY)\n",
    "\n",
    "prediction = clf.predict(testX)\n",
    "\n",
    "print(accuracy_score(testY,prediction))\n",
    "print(precision_score(testY,prediction))\n",
    "print(recall_score(testY,prediction))\n",
    "print(f1_score(testY,prediction))"
   ]
  },
  {
   "cell_type": "code",
   "execution_count": 8,
   "metadata": {},
   "outputs": [
    {
     "name": "stdout",
     "output_type": "stream",
     "text": [
      "0.5686789466110231\n",
      "0.5576143107202323\n",
      "0.889229302832244\n",
      "0.6854189079268452\n"
     ]
    }
   ],
   "source": [
    "# YOUR CODE HERE\n",
    "clf = SVC(kernel = 'rbf', C = 0.1, random_state = 32)\n",
    "\n",
    "clf.fit(trainX,trainY)\n",
    "\n",
    "prediction = clf.predict(testX)\n",
    "\n",
    "print(accuracy_score(testY,prediction))\n",
    "print(precision_score(testY,prediction))\n",
    "print(recall_score(testY,prediction))\n",
    "print(f1_score(testY,prediction))"
   ]
  },
  {
   "cell_type": "code",
   "execution_count": 9,
   "metadata": {},
   "outputs": [
    {
     "name": "stdout",
     "output_type": "stream",
     "text": [
      "0.593862426248381\n",
      "0.6019190404797601\n",
      "0.6833469498910676\n",
      "0.6400535663042439\n"
     ]
    }
   ],
   "source": [
    "clf = SVC(kernel = 'rbf', C = 1, random_state = 32)\n",
    "\n",
    "clf.fit(trainX,trainY)\n",
    "\n",
    "prediction = clf.predict(testX)\n",
    "\n",
    "print(accuracy_score(testY,prediction))\n",
    "print(precision_score(testY,prediction))\n",
    "print(recall_score(testY,prediction))\n",
    "print(f1_score(testY,prediction))"
   ]
  },
  {
   "cell_type": "markdown",
   "metadata": {},
   "source": [
    "核函数 | C | 精度 | 查准率 | 查全率 | F1\n",
    "- | - | - | - | - | -\n",
    "rbf | 0.1 | 0.5686789466110231 | 0.5576143107202323 | 0.889229302832244 | 0.6854189079268452\n",
    "rbf | 1 | 0.593862426248381 | 0.6019190404797601 | 0.6833469498910676 | 0.6400535663042439\n",
    "linear | 0.1 | 0.532306806734782 | 0.5305597798537186 | 0.9976171023965141 | 0.6927149813265259\n",
    "linear | 1 | 0.5294646711757087 | 0.5289962155343305 | 0.9992510893246187 | 0.691772912591615\n",
    "sigmoid | 0.1 | 0.5686789466110231 | 0.5576143107202323 | 0.889229302832244 | 0.6854189079268452\n",
    "sigmoid | 1 | 0.593862426248381 | 0.6019190404797601 | 0.6833469498910676 | 0.6400535663042439"
   ]
  },
  {
   "cell_type": "code",
   "execution_count": null,
   "metadata": {},
   "outputs": [],
   "source": []
  }
 ],
 "metadata": {
  "kernelspec": {
   "display_name": "Python 2",
   "language": "python",
   "name": "python2"
  },
  "language_info": {
   "codemirror_mode": {
    "name": "ipython",
    "version": 3
   },
   "file_extension": ".py",
   "mimetype": "text/x-python",
   "name": "python",
   "nbconvert_exporter": "python",
   "pygments_lexer": "ipython3",
   "version": "3.6.6"
  }
 },
 "nbformat": 4,
 "nbformat_minor": 2
}
