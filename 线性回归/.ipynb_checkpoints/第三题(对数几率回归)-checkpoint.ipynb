{
 "cells": [
  {
   "cell_type": "markdown",
   "metadata": {},
   "source": [
    "# 对数几率回归"
   ]
  },
  {
   "cell_type": "markdown",
   "metadata": {},
   "source": [
    "## 实验内容\n",
    "1. 使用对数几率回归完成垃圾邮件分类问题和Dota2结果预测问题。\n",
    "2. 计算十折交叉验证下的精度(accuracy)，查准率(precision)，查全率(recall)，F1值。\n",
    "\n",
    "## 评测指标  \n",
    "1. 精度\n",
    "2. 查准率\n",
    "3. 查全率\n",
    "4. F1"
   ]
  },
  {
   "cell_type": "markdown",
   "metadata": {},
   "source": [
    "# 1. 读取数据"
   ]
  },
  {
   "cell_type": "code",
   "execution_count": 1,
   "metadata": {},
   "outputs": [],
   "source": [
    "import numpy as np"
   ]
  },
  {
   "cell_type": "code",
   "execution_count": 2,
   "metadata": {},
   "outputs": [],
   "source": [
    "spambase = np.loadtxt('data/spambase/spambase.data', delimiter = \",\")\n",
    "dota2results = np.loadtxt('data/dota2Dataset/dota2Train.csv', delimiter=',')"
   ]
  },
  {
   "cell_type": "markdown",
   "metadata": {},
   "source": [
    "# 2. 导入模型"
   ]
  },
  {
   "cell_type": "code",
   "execution_count": 3,
   "metadata": {},
   "outputs": [],
   "source": [
    "from sklearn.linear_model import LogisticRegression\n",
    "from sklearn.metrics import accuracy_score\n",
    "from sklearn.metrics import precision_score\n",
    "from sklearn.metrics import recall_score\n",
    "from sklearn.metrics import f1_score\n",
    "from sklearn.model_selection import cross_val_predict"
   ]
  },
  {
   "cell_type": "markdown",
   "metadata": {},
   "source": [
    "# 3. 提取数据"
   ]
  },
  {
   "cell_type": "markdown",
   "metadata": {},
   "source": [
    "这里的spamx和dota2x包含了数据集内所有的特征"
   ]
  },
  {
   "cell_type": "code",
   "execution_count": 4,
   "metadata": {},
   "outputs": [
    {
     "name": "stdout",
     "output_type": "stream",
     "text": [
      "[[0.000e+00 6.400e-01 6.400e-01 ... 3.756e+00 6.100e+01 2.780e+02]\n",
      " [2.100e-01 2.800e-01 5.000e-01 ... 5.114e+00 1.010e+02 1.028e+03]\n",
      " [6.000e-02 0.000e+00 7.100e-01 ... 9.821e+00 4.850e+02 2.259e+03]\n",
      " ...\n",
      " [3.000e-01 0.000e+00 3.000e-01 ... 1.404e+00 6.000e+00 1.180e+02]\n",
      " [9.600e-01 0.000e+00 0.000e+00 ... 1.147e+00 5.000e+00 7.800e+01]\n",
      " [0.000e+00 0.000e+00 6.500e-01 ... 1.250e+00 5.000e+00 4.000e+01]]\n",
      "[1. 1. 1. ... 0. 0. 0.]\n",
      "\n",
      "[[223.   2.   2. ...   0.   0.   0.]\n",
      " [152.   2.   2. ...   0.   0.   0.]\n",
      " [131.   2.   2. ...   0.   0.   0.]\n",
      " ...\n",
      " [111.   2.   3. ...   0.   0.   0.]\n",
      " [185.   2.   2. ...   0.   0.   0.]\n",
      " [204.   2.   2. ...   0.   0.   0.]]\n",
      "[-1.  1.  1. ...  1. -1. -1.]\n"
     ]
    }
   ],
   "source": [
    "spamx = spambase[:, :57]\n",
    "spamy = spambase[:, 57]\n",
    "print(spamx)\n",
    "print(spamy)\n",
    "\n",
    "print()\n",
    "\n",
    "dota2x = dota2results[:, 1:]\n",
    "dota2y = dota2results[:, 0]\n",
    "print(dota2x)\n",
    "print(dota2y)"
   ]
  },
  {
   "cell_type": "markdown",
   "metadata": {},
   "source": [
    "# 4. 训练并预测"
   ]
  },
  {
   "cell_type": "markdown",
   "metadata": {},
   "source": [
    "请你完成两个模型使用全部特征的训练与预测，并将预测结果存储起来"
   ]
  },
  {
   "cell_type": "code",
   "execution_count": 5,
   "metadata": {},
   "outputs": [
    {
     "name": "stdout",
     "output_type": "stream",
     "text": [
      "sqam:\n",
      "[1. 1. 1. ... 0. 0. 0.]\n"
     ]
    }
   ],
   "source": [
    "# YOUR CODE HERE\n",
    "print(\"sqam:\")\n",
    "spam_model = LogisticRegression()\n",
    "spam_prediction = cross_val_predict(spam_model, spamx, spamy, cv = 10)\n",
    "print(spam_prediction)"
   ]
  },
  {
   "cell_type": "code",
   "execution_count": 6,
   "metadata": {},
   "outputs": [
    {
     "name": "stdout",
     "output_type": "stream",
     "text": [
      "dota2:\n",
      "[ 1.  1.  1. ...  1. -1.  1.]\n"
     ]
    }
   ],
   "source": [
    "print(\"dota2:\")\n",
    "dota2_model = LogisticRegression()\n",
    "dota2_prediction = cross_val_predict(dota2_model, dota2x, dota2y, cv = 10)\n",
    "print(dota2_prediction)"
   ]
  },
  {
   "cell_type": "markdown",
   "metadata": {},
   "source": [
    "# 5. 评价指标的计算"
   ]
  },
  {
   "cell_type": "markdown",
   "metadata": {},
   "source": [
    "请你计算两个模型的四项指标"
   ]
  },
  {
   "cell_type": "code",
   "execution_count": 7,
   "metadata": {},
   "outputs": [
    {
     "name": "stdout",
     "output_type": "stream",
     "text": [
      "spam：\n",
      "0.9184959791349706\n",
      "0.9043869516310461\n",
      "0.8869277440706013\n",
      "0.8955722639933167\n",
      "\n",
      "dota2：\n",
      "0.598758769562871\n",
      "0.6066682595989487\n",
      "0.6766225247017342\n",
      "0.6397387318415723\n"
     ]
    }
   ],
   "source": [
    "# YOUR CODE HERE\n",
    "spam_accuracy = accuracy_score(spamy,spam_prediction)\n",
    "spam_precision = precision_score(spamy,spam_prediction)\n",
    "spam_recall = recall_score(spamy,spam_prediction)\n",
    "spam_f1 = f1_score(spamy,spam_prediction)\n",
    "print(\"spam：\")\n",
    "print(spam_accuracy)\n",
    "print(spam_precision)\n",
    "print(spam_recall)\n",
    "print(spam_f1)\n",
    "\n",
    "print()\n",
    "\n",
    "dota2_accuracy = accuracy_score(dota2y,dota2_prediction)\n",
    "dota2_precision = precision_score(dota2y,dota2_prediction)\n",
    "dota2_recall = recall_score(dota2y,dota2_prediction)\n",
    "dota2_f1 = f1_score(dota2y,dota2_prediction)\n",
    "print(\"dota2：\")\n",
    "print(dota2_accuracy)\n",
    "print(dota2_precision)\n",
    "print(dota2_recall)\n",
    "print(dota2_f1)"
   ]
  },
  {
   "cell_type": "markdown",
   "metadata": {},
   "source": [
    "###### 双击此处填写\n",
    "\n",
    "数据集|精度|查准率|查全率|F1\n",
    "-|-|-|-|-\n",
    "spambase | 0.9184959791349706 | 0.9043869516310461 | 0.8869277440706013 | 0.8955722639933167\n",
    "dota2Results | 0.598758769562871 | 0.6066682595989487 | 0.6766225247017342 | 0.6397387318415723"
   ]
  },
  {
   "cell_type": "markdown",
   "metadata": {},
   "source": [
    "# 6. 选做：尝试对特征进行变换、筛选、组合后，训练模型并计算十折交叉验证后的四项指标"
   ]
  },
  {
   "cell_type": "code",
   "execution_count": 8,
   "metadata": {},
   "outputs": [
    {
     "name": "stdout",
     "output_type": "stream",
     "text": [
      "[[223.   2.   2. ...  37.  73.  87.]\n",
      " [152.   2.   2. ...  34.  92.  97.]\n",
      " [131.   2.   2. ...  45.  71.  92.]\n",
      " ...\n",
      " [111.   2.   3. ...  61.  67.  73.]\n",
      " [185.   2.   2. ...  14.  31.  48.]\n",
      " [204.   2.   2. ...  31.  55.  78.]]\n"
     ]
    }
   ],
   "source": [
    "# YOUR CODE HERE\n",
    "temp = dota2x[:,3:]\n",
    "new_dota2x = dota2x[:,0:3]\n",
    "team1 = np.where(temp>0)[1]\n",
    "team2 = np.where(temp<0)[1]\n",
    "\n",
    "row = []\n",
    "i = 0\n",
    "k = 0\n",
    "p1 = np.where(temp > 0)[1].reshape(92650,5)\n",
    "p2 = np.where(temp < 0)[1].reshape(92650,5)\n",
    "p1 = np.concatenate((p1,p2),axis=1)\n",
    "new_dota2x = np.concatenate((new_dota2x,p1),axis=1)\n",
    "print(new_dota2x)"
   ]
  },
  {
   "cell_type": "code",
   "execution_count": 9,
   "metadata": {},
   "outputs": [
    {
     "name": "stdout",
     "output_type": "stream",
     "text": [
      "dota2:\n",
      "[1. 1. 1. ... 1. 1. 1.]\n"
     ]
    }
   ],
   "source": [
    "print(\"dota2:\")\n",
    "dota2_model = LogisticRegression()\n",
    "dota2_prediction = cross_val_predict(dota2_model, new_dota2x, dota2y, cv = 10)\n",
    "print(dota2_prediction)"
   ]
  },
  {
   "cell_type": "code",
   "execution_count": 10,
   "metadata": {},
   "outputs": [
    {
     "name": "stdout",
     "output_type": "stream",
     "text": [
      "dota2：\n",
      "0.5292066918510524\n",
      "0.5334881367805208\n",
      "0.843036365872658\n",
      "0.6534571657834733\n",
      "92650\n",
      "77087\n",
      "15563\n"
     ]
    }
   ],
   "source": [
    "dota2_accuracy = accuracy_score(dota2y,dota2_prediction)\n",
    "dota2_precision = precision_score(dota2y,dota2_prediction)\n",
    "dota2_recall = recall_score(dota2y,dota2_prediction)\n",
    "dota2_f1 = f1_score(dota2y,dota2_prediction)\n",
    "print(\"dota2：\")\n",
    "print(dota2_accuracy)\n",
    "print(dota2_precision)\n",
    "print(dota2_recall)\n",
    "print(dota2_f1)\n",
    "print(dota2_prediction.size)\n",
    "print(np.where(dota2_prediction > 0.5)[0].size)\n",
    "print(np.where(dota2_prediction < 0.5)[0].size)"
   ]
  },
  {
   "cell_type": "code",
   "execution_count": 11,
   "metadata": {},
   "outputs": [],
   "source": [
    "new_dota2x1 = new_dota2x[:,1:]"
   ]
  },
  {
   "cell_type": "code",
   "execution_count": 12,
   "metadata": {},
   "outputs": [
    {
     "name": "stdout",
     "output_type": "stream",
     "text": [
      "dota2:\n",
      "[1. 1. 1. ... 1. 1. 1.]\n"
     ]
    }
   ],
   "source": [
    "print(\"dota2:\")\n",
    "dota2_model = LogisticRegression()\n",
    "dota2_prediction = cross_val_predict(dota2_model, new_dota2x1, dota2y, cv = 10)\n",
    "print(dota2_prediction)"
   ]
  },
  {
   "cell_type": "code",
   "execution_count": 13,
   "metadata": {},
   "outputs": [
    {
     "name": "stdout",
     "output_type": "stream",
     "text": [
      "dota2：\n",
      "0.5289908256880734\n",
      "0.5333497607221134\n",
      "0.843036365872658\n",
      "0.6533533509679161\n",
      "92650\n",
      "77107\n",
      "15543\n"
     ]
    }
   ],
   "source": [
    "dota2_accuracy = accuracy_score(dota2y,dota2_prediction)\n",
    "dota2_precision = precision_score(dota2y,dota2_prediction)\n",
    "dota2_recall = recall_score(dota2y,dota2_prediction)\n",
    "dota2_f1 = f1_score(dota2y,dota2_prediction)\n",
    "print(\"dota2：\")\n",
    "print(dota2_accuracy)\n",
    "print(dota2_precision)\n",
    "print(dota2_recall)\n",
    "print(dota2_f1)\n",
    "print(dota2_prediction.size)\n",
    "print(np.where(dota2_prediction > 0.5)[0].size)\n",
    "print(np.where(dota2_prediction < 0.5)[0].size)"
   ]
  },
  {
   "cell_type": "code",
   "execution_count": 14,
   "metadata": {},
   "outputs": [],
   "source": [
    "new_dota2x2 = dota2x[:,1:]"
   ]
  },
  {
   "cell_type": "code",
   "execution_count": 15,
   "metadata": {},
   "outputs": [
    {
     "name": "stdout",
     "output_type": "stream",
     "text": [
      "dota2:\n",
      "[ 1.  1.  1. ...  1. -1.  1.]\n"
     ]
    }
   ],
   "source": [
    "print(\"dota2:\")\n",
    "dota2_model = LogisticRegression()\n",
    "dota2_prediction = cross_val_predict(dota2_model, new_dota2x2, dota2y, cv = 10)\n",
    "print(dota2_prediction)"
   ]
  },
  {
   "cell_type": "code",
   "execution_count": 16,
   "metadata": {},
   "outputs": [
    {
     "name": "stdout",
     "output_type": "stream",
     "text": [
      "dota2：\n",
      "0.5987263896384242\n",
      "0.606607379097457\n",
      "0.6767660202533722\n",
      "0.6397690056779645\n",
      "92650\n",
      "54424\n",
      "38226\n"
     ]
    }
   ],
   "source": [
    "dota2_accuracy = accuracy_score(dota2y,dota2_prediction)\n",
    "dota2_precision = precision_score(dota2y,dota2_prediction)\n",
    "dota2_recall = recall_score(dota2y,dota2_prediction)\n",
    "dota2_f1 = f1_score(dota2y,dota2_prediction)\n",
    "print(\"dota2：\")\n",
    "print(dota2_accuracy)\n",
    "print(dota2_precision)\n",
    "print(dota2_recall)\n",
    "print(dota2_f1)\n",
    "print(dota2_prediction.size)\n",
    "print(np.where(dota2_prediction > 0.5)[0].size)\n",
    "print(np.where(dota2_prediction < 0.5)[0].size)"
   ]
  },
  {
   "cell_type": "markdown",
   "metadata": {},
   "source": [
    "###### 双击此处填写\n",
    "1. 模型1的处理流程：将每一局双方的英雄单独提取出id号并拼接在前3个属性之后使用原方法预测\n",
    "2. 模型2的处理流程：在模型1的基础上舍弃第一个属性\n",
    "3. 模型3的处理流程：在原模型的基础上舍弃第一个属性\n",
    "\n",
    "模型|数据集|精度|查准率|查全率|F1\n",
    "-|-|-|-|-|-\n",
    "模型1 | Dota2结果预测问题 | 0.5292066918510524 | 0.5334881367805208 | 0.843036365872658 | 0.6534571657834733\n",
    "模型2 | Dota2结果预测问题 | 0.5289908256880734 | 0.5333497607221134 | 0.843036365872658 | 0.6533533509679161\n",
    "模型3 | Dota2结果预测问题 | 0.5987263896384242 | 0.606607379097457 | 0.6767660202533722 | 0.6397690056779645"
   ]
  },
  {
   "cell_type": "code",
   "execution_count": null,
   "metadata": {},
   "outputs": [],
   "source": []
  }
 ],
 "metadata": {
  "kernelspec": {
   "display_name": "Python 3",
   "language": "python",
   "name": "python3"
  },
  "language_info": {
   "codemirror_mode": {
    "name": "ipython",
    "version": 3
   },
   "file_extension": ".py",
   "mimetype": "text/x-python",
   "name": "python",
   "nbconvert_exporter": "python",
   "pygments_lexer": "ipython3",
   "version": "3.6.6"
  }
 },
 "nbformat": 4,
 "nbformat_minor": 2
}
